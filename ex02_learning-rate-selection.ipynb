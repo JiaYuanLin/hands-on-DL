{
 "cells": [
  {
   "cell_type": "code",
   "execution_count": null,
   "metadata": {},
   "outputs": [],
   "source": [
    "# Import library\n",
    "import numpy as np\n",
    "exec(open(\"00_readingInput.py\").read())\n",
    "\n",
    "# Import keras to build a DL model\n",
    "from keras.models import Sequential\n",
    "from keras.layers.core import Dense, Activation\n",
    "\n",
    "# set the size of mini-batch and number of epochs\n",
    "batch_size = 16\n",
    "epochs = 50"
   ]
  },
  {
   "cell_type": "code",
   "execution_count": null,
   "metadata": {},
   "outputs": [],
   "source": [
    "# set the learning rate of SGD optimizer to 0.1\n",
    "from keras.optimizers import SGD\n",
    "# (Do!) 設定一個較大的 learning rate\n",
    "sgd_large = SGD(lr= , # 填入一個數字, ex: 0.1\n",
    "                momentum=0.0,decay=0.0,nesterov=False)"
   ]
  },
  {
   "cell_type": "code",
   "execution_count": null,
   "metadata": {},
   "outputs": [],
   "source": [
    "#  1. Model using large learning rate, for example: 0.1\n",
    "model_large = Sequential()\n",
    "model_large.add(Dense(128, input_dim=200))\n",
    "model_large.add(Activation('sigmoid'))\n",
    "model_large.add(Dense(256))\n",
    "model_large.add(Activation('sigmoid'))\n",
    "model_large.add(Dense(5))\n",
    "model_large.add(Activation('softmax'))\n",
    "\n",
    "model_large.compile(loss= 'categorical_crossentropy',\n",
    "              optimizer=sgd_large,\n",
    "              metrics=['accuracy'])\n",
    "\n",
    "history_large = model_large.fit(X_train, Y_train,\n",
    "                                batch_size=batch_size,\n",
    "                                epochs=epochs,\n",
    "                                verbose=0,\n",
    "                                shuffle=True,\n",
    "                                validation_split=0.1)\n",
    "\n",
    "loss_large = history_large.history.get('loss')\n",
    "acc_large = history_large.history.get('acc')"
   ]
  },
  {
   "cell_type": "code",
   "execution_count": null,
   "metadata": {},
   "outputs": [],
   "source": [
    "# set the learning rate of SGD optimizer to 0.01\n",
    "# (Do!) 設定一個比 sgd_large 還小 learning rate\n",
    "sgd_median = SGD(lr=, # 填入一個數字, ex: 0.01\n",
    "                 momentum=0.0,decay=0.0,nesterov=False)"
   ]
  },
  {
   "cell_type": "code",
   "execution_count": null,
   "metadata": {},
   "outputs": [],
   "source": [
    "# print 'Building model using SGD(lr=0.01)'\n",
    "''' 2. Model using median learning rate '''\n",
    "model_median = Sequential()\n",
    "model_median.add(Dense(128, input_dim=200))\n",
    "model_median.add(Activation('sigmoid'))\n",
    "model_median.add(Dense(256))\n",
    "model_median.add(Activation('sigmoid'))\n",
    "model_median.add(Dense(5))\n",
    "model_median.add(Activation('softmax'))\n",
    "\n",
    "\n",
    "model_median.compile(loss= 'categorical_crossentropy',\n",
    "              optimizer=sgd_median ,\n",
    "              metrics=['accuracy'])\n",
    "\n",
    "history_median = model_median.fit(X_train, Y_train,\n",
    "                                  batch_size=batch_size,\n",
    "                                  epochs=epochs,\n",
    "                                  verbose=0,\n",
    "                                  shuffle=True,\n",
    "                                  validation_split=0.1)\n",
    "\n",
    "loss_median = history_median.history.get('loss')\n",
    "acc_median = history_median.history.get('acc')"
   ]
  },
  {
   "cell_type": "code",
   "execution_count": null,
   "metadata": {},
   "outputs": [],
   "source": [
    "''' set the learning rate of SGD optimizer to 0.001 '''\n",
    "# (Do!) 設定一個比 sgd_median還小 learning rate\n",
    "sgd_small = SGD(lr=, # 填入一個數字, ex: 0.001\n",
    "                momentum=0.0,decay=0.0,nesterov=False)"
   ]
  },
  {
   "cell_type": "code",
   "execution_count": null,
   "metadata": {},
   "outputs": [],
   "source": [
    "# print 'Building model using SGD(lr=0.001)'\n",
    "''' 3. Model using small learning rate '''\n",
    "model_small = Sequential()\n",
    "model_small.add(Dense(128, input_dim=200))\n",
    "model_small.add(Activation('sigmoid'))\n",
    "model_small.add(Dense(256))\n",
    "model_small.add(Activation('sigmoid'))\n",
    "model_small.add(Dense(5))\n",
    "model_small.add(Activation('softmax'))\n",
    "\n",
    "model_small.compile(loss= 'categorical_crossentropy',\n",
    "                    optimizer=sgd_small,\n",
    "                    metrics=['accuracy'])\n",
    "\n",
    "history_small = model_small.fit(X_train, Y_train,\n",
    "                                batch_size=batch_size,\n",
    "                                epochs=epochs,\n",
    "                                verbose=0,\n",
    "                                shuffle=True,\n",
    "                                validation_split=0.1)\n",
    "\n",
    "loss_small = history_small.history.get('loss')\n",
    "acc_small = history_small.history.get('acc')"
   ]
  },
  {
   "cell_type": "code",
   "execution_count": null,
   "metadata": {},
   "outputs": [],
   "source": [
    "import matplotlib.pyplot as plt\n",
    "plt.figure(0,figsize=(8,6))\n",
    "plt.subplot(121)\n",
    "plt.plot(range(len(loss_large)), loss_large,label='lr (large)')\n",
    "plt.plot(range(len(loss_median)), loss_median,label='lr (intermediate)')\n",
    "plt.plot(range(len(loss_small)), loss_small,label='lr (small)')\n",
    "plt.title('Loss')\n",
    "plt.xlabel(\"epoch\")\n",
    "plt.subplot(122)\n",
    "plt.plot(range(len(acc_large)), acc_large,label='lr (large)')\n",
    "plt.plot(range(len(acc_median)), acc_median,label='lr (intermediate)')\n",
    "plt.plot(range(len(acc_small)), acc_small,label='lr (small)')\n",
    "plt.title('Accuracy')\n",
    "plt.xlabel(\"epoch\")\n",
    "plt.legend(loc='lower right')\n",
    "plt.tight_layout()\n",
    "plt.savefig('02_learningRateSelection.png',dpi=300,format='png')\n",
    "plt.show()\n",
    "plt.close()\n",
    "print('Result saved into 02_learningRateSelection.png')"
   ]
  },
  {
   "cell_type": "code",
   "execution_count": null,
   "metadata": {},
   "outputs": [],
   "source": []
  }
 ],
 "metadata": {
  "kernelspec": {
   "display_name": "Python 3",
   "language": "python",
   "name": "python3"
  },
  "language_info": {
   "codemirror_mode": {
    "name": "ipython",
    "version": 3
   },
   "file_extension": ".py",
   "mimetype": "text/x-python",
   "name": "python",
   "nbconvert_exporter": "python",
   "pygments_lexer": "ipython3",
   "version": "3.6.3"
  }
 },
 "nbformat": 4,
 "nbformat_minor": 2
}
