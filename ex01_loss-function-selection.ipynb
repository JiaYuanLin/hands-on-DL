{
 "cells": [
  {
   "cell_type": "code",
   "execution_count": null,
   "metadata": {},
   "outputs": [],
   "source": [
    "''' Import library '''\n",
    "import numpy as np\n",
    "# read data\n",
    "exec(open(\"00_readingInput.py\").read())\n",
    "\n",
    "''' Import keras to build a DL model '''\n",
    "from keras.models import Sequential\n",
    "from keras.layers.core import Dense, Activation"
   ]
  },
  {
   "cell_type": "markdown",
   "metadata": {},
   "source": [
    "### Do it!\n",
    "建立一個 Fully Connected Neural Network (input_dim = 200, output_dim = 5)\n",
    "- 1st dense layer = 128 neurons using 'sigmoid' activation function\n",
    "- 2nd dense layer = 256 neurons using 'sigmoid' activation function\n",
    "- 3rd dense layer (output) = 5 neurons using 'softmax' activation function"
   ]
  },
  {
   "cell_type": "code",
   "execution_count": null,
   "metadata": {},
   "outputs": [],
   "source": [
    "# print 'Building a model whose loss function is categorical_crossentropy'\n",
    "''' For categorical_crossentropy '''\n",
    "model_ce = Sequential()\n",
    "# Do it here\n"
   ]
  },
  {
   "cell_type": "markdown",
   "metadata": {},
   "source": [
    "### Do it\n",
    "- 建立 optimizer\n",
    "- loss function 選擇 'categorical_crossentropy'"
   ]
  },
  {
   "cell_type": "code",
   "execution_count": null,
   "metadata": {},
   "outputs": [],
   "source": [
    "# Set up the optimizer\n",
    "from keras.optimizers import SGD\n",
    "sgd = SGD(lr=0.01,momentum=0.0,decay=0.0,nesterov=False)\n",
    "\n",
    "# Do it here\n",
    "model_ce.compile(loss='',\n",
    "                 optimizer=sgd,\n",
    "                 metrics=['accuracy'])"
   ]
  },
  {
   "cell_type": "code",
   "execution_count": null,
   "metadata": {},
   "outputs": [],
   "source": [
    "# print 'Building a model whose loss function is mean_squared_error'\n",
    "''' For mean_squared_error '''\n",
    "model_mse = Sequential()\n",
    "model_mse.add(Dense(128, input_dim=200))\n",
    "model_mse.add(Activation('sigmoid'))\n",
    "model_mse.add(Dense(256))\n",
    "model_mse.add(Activation('sigmoid'))\n",
    "model_mse.add(Dense(5))\n",
    "model_mse.add(Activation('softmax'))\n",
    "\n",
    "# please use mean_squared_error as loss\n",
    "model_mse.compile(loss= 'mean_squared_error',\n",
    "              optimizer=sgd,\n",
    "              metrics=['accuracy'])"
   ]
  },
  {
   "cell_type": "code",
   "execution_count": null,
   "metadata": {},
   "outputs": [],
   "source": [
    "# set the size of mini-batch and number of epochs\n",
    "batch_size = 16\n",
    "epochs = 100\n",
    "\n",
    "# Fit models and use validation_split=0.1\n",
    "history_ce = model_ce.fit(X_train, Y_train,\n",
    "                          batch_size=batch_size,\n",
    "                          epochs=epochs,\n",
    "                          verbose=0,\n",
    "                          shuffle=True,\n",
    "                          validation_split=0.1)\n",
    "\n",
    "history_mse = model_mse.fit(X_train, Y_train,\n",
    "                            batch_size=batch_size,\n",
    "                            epochs=epochs,\n",
    "                            verbose=0,\n",
    "                            shuffle=True,\n",
    "                            validation_split=0.1)"
   ]
  },
  {
   "cell_type": "code",
   "execution_count": null,
   "metadata": {},
   "outputs": [],
   "source": [
    "# Access the loss and accuracy in every epoch\n",
    "loss_ce\t= history_ce.history.get('loss')\n",
    "acc_ce \t= history_ce.history.get('acc')\n",
    "loss_mse= history_mse.history.get('loss')\n",
    "acc_mse = history_mse.history.get('acc')\n",
    "\n",
    "# Visualize the loss and accuracy of both models\n",
    "import matplotlib.pyplot as plt\n",
    "plt.figure(0,figsize=(8,6))\n",
    "plt.subplot(121)\n",
    "plt.plot(range(len(loss_ce)), loss_ce,label='CE')\n",
    "plt.plot(range(len(loss_mse)), loss_mse,label='MSE')\n",
    "plt.title('Loss')\n",
    "plt.xlabel(\"epoch\")\n",
    "plt.subplot(122)\n",
    "plt.plot(range(len(acc_ce)), acc_ce,label='CE')\n",
    "plt.plot(range(len(acc_mse)), acc_mse,label='MSE')\n",
    "plt.title('Accuracy')\n",
    "plt.xlabel(\"epoch\")\n",
    "plt.legend(loc='lower right')\n",
    "plt.tight_layout()\n",
    "plt.show()\n",
    "plt.savefig('01_lossFuncSelection.png',dpi=300,format='png')\n",
    "plt.close()"
   ]
  }
 ],
 "metadata": {
  "kernelspec": {
   "display_name": "Python 3",
   "language": "python",
   "name": "python3"
  },
  "language_info": {
   "codemirror_mode": {
    "name": "ipython",
    "version": 3
   },
   "file_extension": ".py",
   "mimetype": "text/x-python",
   "name": "python",
   "nbconvert_exporter": "python",
   "pygments_lexer": "ipython3",
   "version": "3.6.3"
  }
 },
 "nbformat": 4,
 "nbformat_minor": 2
}
