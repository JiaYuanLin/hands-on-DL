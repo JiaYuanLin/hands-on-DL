{
  "nbformat": 4,
  "nbformat_minor": 0,
  "metadata": {
    "colab": {
      "name": "00_setup-colab.ipynb",
      "version": "0.3.2",
      "provenance": [],
      "collapsed_sections": []
    },
    "kernelspec": {
      "name": "python3",
      "display_name": "Python 3"
    }
  },
  "cells": [
    {
      "metadata": {
        "id": "mgajdtvLbXS_",
        "colab_type": "text"
      },
      "cell_type": "markdown",
      "source": [
        "## 將 github 程式下載到 Google Drive"
      ]
    },
    {
      "metadata": {
        "id": "n9AL0_wWbWIH",
        "colab_type": "code",
        "colab": {}
      },
      "cell_type": "code",
      "source": [
        "from google.colab import drive\n",
        "drive.mount('/content/drive/')"
      ],
      "execution_count": 0,
      "outputs": []
    },
    {
      "metadata": {
        "id": "SxJ3Ozo1axZf",
        "colab_type": "code",
        "colab": {}
      },
      "cell_type": "code",
      "source": [
        "!git clone https://github.com/twcmchang/hands-on-DL.git drive/My\\ Drive/hands-on-DL/"
      ],
      "execution_count": 0,
      "outputs": []
    },
    {
      "metadata": {
        "id": "pmOBonSbbPMh",
        "colab_type": "code",
        "colab": {}
      },
      "cell_type": "code",
      "source": [
        "!pip install -q keras"
      ],
      "execution_count": 0,
      "outputs": []
    },
    {
      "metadata": {
        "id": "v_kp3wlabEI_",
        "colab_type": "text"
      },
      "cell_type": "markdown",
      "source": [
        "## 接著，請在每一個 ipynb 最上方加入"
      ]
    },
    {
      "metadata": {
        "id": "9WNCa-4gbHhV",
        "colab_type": "code",
        "colab": {}
      },
      "cell_type": "code",
      "source": [
        "import os \n",
        "os.chdir(\"drive/My Drive/hands-on-DL/\")"
      ],
      "execution_count": 0,
      "outputs": []
    }
  ]
}